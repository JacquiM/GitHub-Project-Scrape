{
 "cells": [
  {
   "cell_type": "markdown",
   "metadata": {},
   "source": [
    "# Initialise all Libraries/Packages"
   ]
  },
  {
   "cell_type": "code",
   "execution_count": 3,
   "metadata": {},
   "outputs": [],
   "source": [
    "import requests\n",
    "import json\n",
    "import pandas as pd\n",
    "\n",
    "from bs4 import BeautifulSoup as bs "
   ]
  },
  {
   "cell_type": "markdown",
   "metadata": {},
   "source": [
    "# Use BeautifulSoup to Scrape the Project"
   ]
  },
  {
   "cell_type": "code",
   "execution_count": 4,
   "metadata": {},
   "outputs": [],
   "source": [
    "def GetProjectSoup(project_url):\n",
    "\n",
    "    # load the projectpro webpage content \n",
    "    r = requests.get(project_url) \n",
    "\n",
    "    # convert to beautiful soup \n",
    "    soup = bs(r.content) \n",
    "\n",
    "    return soup"
   ]
  },
  {
   "cell_type": "markdown",
   "metadata": {},
   "source": [
    "# Get Project Views"
   ]
  },
  {
   "cell_type": "code",
   "execution_count": 5,
   "metadata": {},
   "outputs": [],
   "source": [
    "def GetViews(soup):\n",
    "\n",
    "    view_data_text = str(soup.find_all(id='memex-views')).replace('[<script id=\"memex-views\" type=\"application/json\">','').replace('</script>]','')\n",
    "\n",
    "    json_object = json.loads(view_data_text)\n",
    "\n",
    "    return pd.DataFrame.from_dict(json_object)"
   ]
  },
  {
   "cell_type": "markdown",
   "metadata": {},
   "source": [
    "# Get Project View Columns"
   ]
  },
  {
   "cell_type": "code",
   "execution_count": 6,
   "metadata": {},
   "outputs": [],
   "source": [
    "def GetColumns(soup):\n",
    "  \n",
    "    column_data_text = str(soup.find_all(id='memex-columns-data')).replace('[<script id=\"memex-columns-data\" type=\"application/json\">','').replace('</script>]','')\n",
    "\n",
    "    json_object = json.loads(column_data_text)\n",
    "\n",
    "    json_object\n",
    "\n",
    "    return pd.DataFrame.from_dict(json_object)"
   ]
  },
  {
   "cell_type": "markdown",
   "metadata": {},
   "source": [
    "# Get View Data"
   ]
  },
  {
   "cell_type": "code",
   "execution_count": 7,
   "metadata": {},
   "outputs": [],
   "source": [
    "def GetData(soup):\n",
    "  \n",
    "    data_text = str(soup.find_all(id='memex-items-data')).replace('[<script id=\"memex-items-data\" type=\"application/json\">','').replace('</script>]','')\n",
    "\n",
    "    json_object = json.loads(data_text)\n",
    "\n",
    "    json_object\n",
    "\n",
    "    df_tempdata = pd.DataFrame.from_dict(json_object)\n",
    "\n",
    "    return df_tempdata"
   ]
  },
  {
   "cell_type": "markdown",
   "metadata": {},
   "source": [
    "# Get Project Charts"
   ]
  },
  {
   "cell_type": "code",
   "execution_count": 8,
   "metadata": {},
   "outputs": [],
   "source": [
    "def GetCharts(project_url):\n",
    "\n",
    "    # load the projectpro webpage content \n",
    "    r = requests.get(project_url) \n",
    "\n",
    "    # convert to beautiful soup \n",
    "    soup = bs(r.content) \n",
    "\n",
    "    #print(soup)\n",
    "\n",
    "    column_data_text = str(soup.find_all(id='memex-charts-data')).replace('[<script id=\"memex-charts-data\" type=\"application/json\">','').replace('</script>]','')\n",
    "\n",
    "    json_object = json.loads(column_data_text)\n",
    "\n",
    "    json_object\n",
    "\n",
    "    charts_list = [ element['name'] for element in json_object]\n",
    "\n",
    "    return charts_list"
   ]
  },
  {
   "cell_type": "markdown",
   "metadata": {},
   "source": [
    "# Get 'All' Project Info"
   ]
  },
  {
   "cell_type": "code",
   "execution_count": 17,
   "metadata": {},
   "outputs": [],
   "source": [
    "project_url = 'https://github.com/users/JacquiM/projects/16'\n",
    "\n",
    "# Get Soup from Website Scrape\n",
    "soup = GetProjectSoup(project_url)\n",
    "\n",
    "# Get Views and assign to new Dataframe\n",
    "df_views = GetViews(soup)\n",
    "\n",
    "# Get Columns and assign to new Dataframe\n",
    "df_columns = GetColumns(soup)\n",
    "\n",
    "# Get View Data and assign to new Dataframe\n",
    "df_data = GetData(soup)\n",
    "\n",
    "# Get Project Charts and return as List\n",
    "charts_list = GetCharts(project_url)"
   ]
  },
  {
   "cell_type": "code",
   "execution_count": null,
   "metadata": {},
   "outputs": [],
   "source": []
  }
 ],
 "metadata": {
  "kernelspec": {
   "display_name": "Python 3",
   "language": "python",
   "name": "python3"
  },
  "language_info": {
   "codemirror_mode": {
    "name": "ipython",
    "version": 3
   },
   "file_extension": ".py",
   "mimetype": "text/x-python",
   "name": "python",
   "nbconvert_exporter": "python",
   "pygments_lexer": "ipython3",
   "version": "3.8.5"
  }
 },
 "nbformat": 4,
 "nbformat_minor": 4
}
